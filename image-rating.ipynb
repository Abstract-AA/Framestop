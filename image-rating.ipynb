{
 "cells": [
  {
   "cell_type": "markdown",
   "metadata": {},
   "source": [
    "# Rating de imagens\n",
    "Testes de algoritmos para dar uma nota de qualidade ara cada imagem."
   ]
  },
  {
   "cell_type": "code",
   "execution_count": 2,
   "metadata": {},
   "outputs": [],
   "source": [
    "# importar bibliotecas necessárias\n",
    "from PIL import Image\n",
    "from colormath.color_objects import LabColor, sRGBColor\n",
    "from colormath.color_conversions import convert_color\n",
    "from colormath.color_diff import delta_e_cie2000\n"
   ]
  },
  {
   "cell_type": "markdown",
   "metadata": {},
   "source": [
    "## Imagens de teste\n",
    "Para testar a eficiência do algoritmo, foram criadas várias imagens de 4x4 px ampliadas para 32x32 px."
   ]
  },
  {
   "cell_type": "code",
   "execution_count": 3,
   "metadata": {},
   "outputs": [
    {
     "data": {
      "image/jpeg": "[encoded data removed]",
      "image/png": "[encoded data removed]",
      "text/plain": [
       "<PIL.PngImagePlugin.PngImageFile image mode=RGB size=4x4>"
      ]
     },
     "metadata": {},
     "output_type": "display_data"
    },
    {
     "data": {
      "image/jpeg": "[encoded data removed]",
      "image/png": "[encoded data removed]",
      "text/plain": [
       "<PIL.PngImagePlugin.PngImageFile image mode=RGB size=4x4>"
      ]
     },
     "metadata": {},
     "output_type": "display_data"
    },
    {
     "data": {
      "image/jpeg": "[encoded data removed]",
      "image/png": "[encoded data removed]",
      "text/plain": [
       "<PIL.PngImagePlugin.PngImageFile image mode=RGB size=32x32>"
      ]
     },
     "metadata": {},
     "output_type": "display_data"
    },
    {
     "data": {
      "image/jpeg": "[encoded data removed]",
      "image/png": "[encoded data removed]",
      "text/plain": [
       "<PIL.PngImagePlugin.PngImageFile image mode=RGB size=32x32>"
      ]
     },
     "metadata": {},
     "output_type": "display_data"
    },
    {
     "data": {
      "image/jpeg": "[encoded data removed]",
      "image/png": "[encoded data removed]",
      "text/plain": [
       "<PIL.PngImagePlugin.PngImageFile image mode=RGB size=32x32>"
      ]
     },
     "metadata": {},
     "output_type": "display_data"
    },
    {
     "data": {
      "image/jpeg": "[encoded data removed]",
      "image/png": "[encoded data removed]",
      "text/plain": [
       "<PIL.PngImagePlugin.PngImageFile image mode=RGB size=32x32>"
      ]
     },
     "metadata": {},
     "output_type": "display_data"
    },
    {
     "data": {
      "image/jpeg": "[encoded data removed]",
      "image/png": "[encoded data removed]",
      "text/plain": [
       "<PIL.PngImagePlugin.PngImageFile image mode=RGB size=32x32>"
      ]
     },
     "metadata": {},
     "output_type": "display_data"
    },
    {
     "data": {
      "image/jpeg": "[encoded data removed]",
      "image/png": "[encoded data removed]",
      "text/plain": [
       "<PIL.PngImagePlugin.PngImageFile image mode=RGB size=32x32>"
      ]
     },
     "metadata": {},
     "output_type": "display_data"
    },
    {
     "data": {
      "image/jpeg": "[encoded data removed]",
      "image/png": "[encoded data removed]",
      "text/plain": [
       "<PIL.PngImagePlugin.PngImageFile image mode=RGB size=32x32>"
      ]
     },
     "metadata": {},
     "output_type": "display_data"
    }
   ],
   "source": [
    "img0a = Image.open('imgs_exemplo/xadrez-0.png')\n",
    "img0b = Image.open('imgs_exemplo/listras-0.png')\n",
    "img1 = Image.open('imgs_exemplo/xadrez-1.png')\n",
    "img2 = Image.open('imgs_exemplo/xadrez-2.png')\n",
    "img3 = Image.open('imgs_exemplo/xadrez-3.png')\n",
    "img4 = Image.open('imgs_exemplo/xadrez-4.png')\n",
    "img5 = Image.open('imgs_exemplo/xadrez-5.png')\n",
    "img6 = Image.open('imgs_exemplo/xadrez-6.png')\n",
    "img7 = Image.open('imgs_exemplo/listras-1.png')\n",
    "\n",
    "display(img0a)\n",
    "display(img0b)\n",
    "display(img1)\n",
    "display(img2)\n",
    "display(img3)\n",
    "display(img4)\n",
    "display(img5)\n",
    "display(img6)\n",
    "display(img7)"
   ]
  },
  {
   "cell_type": "markdown",
   "metadata": {},
   "source": [
    "## Passo a passo para dar uma nota para a imagem\n",
    "\n",
    "### 1- Converter para Lab e obter o ΔE*\n",
    "O CIELAB ΔE* calcula a diferença perceptual de cores, não apenas a matemática. A medida é ajustada para como humanos percebem as diferentes cores. Para calcular essa medida, as imagens precisam ser convertidas do espaço de cor RGB para o espaço Lab.\n",
    "Por questões de praticidade, criei uma função que já faz a conversão e mede a distância entre 2 pixels."
   ]
  },
  {
   "cell_type": "code",
   "execution_count": 4,
   "metadata": {},
   "outputs": [
    {
     "data": {
      "image/jpeg": "[encoded data removed]",
      "image/png": "[encoded data removed]",
      "text/plain": [
       "<PIL.PngImagePlugin.PngImageFile image mode=RGB size=32x32>"
      ]
     },
     "metadata": {},
     "output_type": "display_data"
    },
    {
     "name": "stdout",
     "output_type": "stream",
     "text": [
      "99.99998490203575\n"
     ]
    },
    {
     "data": {
      "image/jpeg": "[encoded data removed]",
      "image/png": "[encoded data removed]",
      "text/plain": [
       "<PIL.PngImagePlugin.PngImageFile image mode=RGB size=32x32>"
      ]
     },
     "metadata": {},
     "output_type": "display_data"
    },
    {
     "name": "stdout",
     "output_type": "stream",
     "text": [
      "11.814090519180438\n"
     ]
    },
    {
     "data": {
      "image/jpeg": "[encoded data removed]",
      "image/png": "[encoded data removed]",
      "text/plain": [
       "<PIL.PngImagePlugin.PngImageFile image mode=RGB size=32x32>"
      ]
     },
     "metadata": {},
     "output_type": "display_data"
    },
    {
     "name": "stdout",
     "output_type": "stream",
     "text": [
      "1.9028307665974282\n"
     ]
    },
    {
     "data": {
      "image/jpeg": "[encoded data removed]",
      "image/png": "[encoded data removed]",
      "text/plain": [
       "<PIL.PngImagePlugin.PngImageFile image mode=RGB size=32x32>"
      ]
     },
     "metadata": {},
     "output_type": "display_data"
    },
    {
     "name": "stdout",
     "output_type": "stream",
     "text": [
      "76.91213897021737\n"
     ]
    },
    {
     "data": {
      "image/jpeg": "[encoded data removed]",
      "image/png": "[encoded data removed]",
      "text/plain": [
       "<PIL.PngImagePlugin.PngImageFile image mode=RGB size=32x32>"
      ]
     },
     "metadata": {},
     "output_type": "display_data"
    },
    {
     "name": "stdout",
     "output_type": "stream",
     "text": [
      "8.226374950880052\n"
     ]
    }
   ],
   "source": [
    "# pequeno patch para o cálculo do dE que usa uma versão antiga do numpy\n",
    "import numpy\n",
    "\n",
    "def patch_asscalar(a):\n",
    "    return a.item()\n",
    "\n",
    "setattr(numpy, \"asscalar\", patch_asscalar)\n",
    "\n",
    "\n",
    "def obter_dE(px1, px2):\n",
    "    #converter cada pixel para Lab\n",
    "    rgb1 = sRGBColor(px1[0]/255, px1[1]/255, px1[0]/255)\n",
    "    lab1 = convert_color(rgb1, LabColor)\n",
    "    rbg2 = sRGBColor(px2[0]/255, px2[1]/255, px2[0]/255)\n",
    "    lab2 = convert_color(rbg2, LabColor)\n",
    "    #calcular a diferença\n",
    "    dE = delta_e_cie2000(lab1, lab2)\n",
    "    return dE\n",
    "\n",
    "#exemplo de uso comparando os dois primeiros quadrados\n",
    "display(img1)\n",
    "print(obter_dE(img1.getpixel((0, 0)), img1.getpixel((0, 8))))\n",
    "display(img2)\n",
    "print(obter_dE(img2.getpixel((0, 0)), img2.getpixel((0, 8))))\n",
    "display(img3)\n",
    "print(obter_dE(img3.getpixel((0, 0)), img3.getpixel((0, 8))))\n",
    "display(img5)\n",
    "print(obter_dE(img5.getpixel((0, 0)), img5.getpixel((0, 8))))\n",
    "display(img6)\n",
    "print(obter_dE(img6.getpixel((0, 0)), img6.getpixel((0, 8))))\n"
   ]
  },
  {
   "cell_type": "markdown",
   "metadata": {},
   "source": [
    "### 2- Iterar sobre pixels vizinhos\n",
    "A ideia é que o algoritmo compare as cores de cada pixel com seus 4 vizinhos laterais. Para isso precisamos de um iterador que obtenha os valores do pixel vizinho."
   ]
  },
  {
   "cell_type": "code",
   "execution_count": 5,
   "metadata": {},
   "outputs": [
    {
     "name": "stdout",
     "output_type": "stream",
     "text": [
      "[(255, 255, 255), (255, 255, 255), (255, 255, 255), (255, 255, 255)]\n",
      "[(0, 0, 0), (0, 0, 0), (0, 0, 0), (0, 0, 0)]\n",
      "[(0, 0, 0), (0, 0, 0), (0, 0, 0), (0, 0, 0)]\n",
      "[(255, 255, 255), (255, 255, 255), (255, 255, 255), (255, 255, 255)]\n",
      "----\n",
      "[(255, 255, 255), (255, 255, 255), (255, 255, 255), (0, 0, 0)]\n",
      "[(0, 0, 0), (255, 255, 255), (0, 0, 0), (0, 0, 0)]\n",
      "[(0, 0, 0), (0, 0, 0), (0, 0, 0), (255, 255, 255)]\n",
      "[(255, 255, 255), (0, 0, 0), (255, 255, 255), (255, 255, 255)]\n"
     ]
    }
   ],
   "source": [
    "def valores_vizinhos(loaded_img, x,y):\n",
    "    cima = loaded_img[x,y-1]\n",
    "    direita = loaded_img[x+1, y]\n",
    "    baixo = loaded_img[x, y+1]\n",
    "    esquerda = loaded_img[x-1, y]\n",
    "    return [cima, direita, baixo, esquerda]\n",
    "\n",
    "# Iterador que descarta um pixel de borda para garantir que os vizinhos existam\n",
    "def iterador(img):\n",
    "    largura, altura = img.size\n",
    "    loaded_img = img.load()\n",
    "    for linha in range(1, altura-1):\n",
    "        for coluna in range(1, largura-1):\n",
    "            print(valores_vizinhos(loaded_img, coluna, linha))\n",
    "\n",
    "iterador(img0a)\n",
    "print('----')\n",
    "iterador(img0b)"
   ]
  },
  {
   "cell_type": "markdown",
   "metadata": {},
   "source": [
    "A partir do momento em que esse iterador anda, ele repete o cálculo do ΔE* desnecessariamente várias vezes. Quando está no pixel um, o vizinho à direita é o 2. Quando está no pixel 2, o vizinho à esquerda é o 1. Podemos evitar isso restringindo a análise de vizinhos a partir de linhas e colunas ímpares/pares:\n",
    "- **linha par**: só analisa vizinhos em colunas pares\n",
    "- **linha ímpar**: só analisa vizinhos em colunas ímpares"
   ]
  },
  {
   "cell_type": "code",
   "execution_count": 6,
   "metadata": {},
   "outputs": [
    {
     "name": "stdout",
     "output_type": "stream",
     "text": [
      "[(255, 255, 255), (255, 255, 255), (255, 255, 255), (255, 255, 255)]\n",
      "[(255, 255, 255), (255, 255, 255), (255, 255, 255), (255, 255, 255)]\n",
      "----\n",
      "[(255, 255, 255), (255, 255, 255), (255, 255, 255), (0, 0, 0)]\n",
      "[(255, 255, 255), (0, 0, 0), (255, 255, 255), (255, 255, 255)]\n"
     ]
    }
   ],
   "source": [
    "def valores_vizinhos(loaded_img, x,y):\n",
    "    cima = loaded_img[x,y-1]\n",
    "    direita = loaded_img[x+1, y]\n",
    "    baixo = loaded_img[x, y+1]\n",
    "    esquerda = loaded_img[x-1, y]\n",
    "    return [cima, direita, baixo, esquerda]\n",
    "\n",
    "# Iterador que descarta um pixel de borda para garantir que os vizinhos existam\n",
    "def iterador(img):\n",
    "    largura, altura = img.size\n",
    "    loaded_img = img.load()\n",
    "    for linha in range(1, altura-1):\n",
    "        for coluna in range(1, largura-1):\n",
    "            if (linha%2 == 0 and coluna%2 == 0) or (linha%2 == 1 and coluna%2 == 1):\n",
    "                print(valores_vizinhos(loaded_img, coluna, linha))\n",
    "\n",
    "iterador(img0a)\n",
    "print('----')\n",
    "iterador(img0b)"
   ]
  },
  {
   "cell_type": "markdown",
   "metadata": {},
   "source": [
    "Agora que temos um iterador eficiente, vamos modificá-lo para que calcule os ΔE* e informe a diferença com base em um limiar. Essa é a base para calcular mudanças de contraste importantes."
   ]
  },
  {
   "cell_type": "code",
   "execution_count": 7,
   "metadata": {},
   "outputs": [
    {
     "name": "stdout",
     "output_type": "stream",
     "text": [
      "cor mudou\n",
      "cor mudou\n",
      "cor mudou\n",
      "cor não mudou\n",
      "cor mudou\n",
      "cor não mudou\n",
      "cor mudou\n",
      "cor mudou\n"
     ]
    }
   ],
   "source": [
    "limiar = 10 #abaixo dessa diferença consideramos a mesma cor\n",
    "\n",
    "def iterador(img):\n",
    "    largura, altura = img.size\n",
    "    loaded_img = img.load()\n",
    "    for linha in range(1, altura-1):\n",
    "        for coluna in range(1, largura-1):\n",
    "            if (linha%2 == 0 and coluna%2 == 0) or (linha%2 == 1 and coluna%2 == 1):\n",
    "                for pixel in valores_vizinhos(loaded_img, coluna, linha):\n",
    "                    dE = obter_dE(loaded_img[linha, coluna], pixel)\n",
    "                    if dE > limiar:\n",
    "                        print('cor mudou')\n",
    "                    else:\n",
    "                        print('cor não mudou')\n",
    "\n",
    "iterador(img0b)"
   ]
  },
  {
   "cell_type": "markdown",
   "metadata": {},
   "source": [
    "O último passo para rankear as imagens é contar o número de mudanças realtiva ao número de pixels."
   ]
  },
  {
   "cell_type": "code",
   "execution_count": 8,
   "metadata": {},
   "outputs": [
    {
     "data": {
      "image/jpeg": "[encoded data removed]",
      "image/png": "[encoded data removed]",
      "text/plain": [
       "<PIL.PngImagePlugin.PngImageFile image mode=RGB size=4x4>"
      ]
     },
     "metadata": {},
     "output_type": "display_data"
    },
    {
     "name": "stdout",
     "output_type": "stream",
     "text": [
      "100.0\n"
     ]
    },
    {
     "data": {
      "image/jpeg": "[encoded data removed]",
      "image/png": "[encoded data removed]",
      "text/plain": [
       "<PIL.PngImagePlugin.PngImageFile image mode=RGB size=4x4>"
      ]
     },
     "metadata": {},
     "output_type": "display_data"
    },
    {
     "name": "stdout",
     "output_type": "stream",
     "text": [
      "75.0\n"
     ]
    },
    {
     "data": {
      "image/jpeg": "[encoded data removed]",
      "image/png": "[encoded data removed]",
      "text/plain": [
       "<PIL.PngImagePlugin.PngImageFile image mode=RGB size=32x32>"
      ]
     },
     "metadata": {},
     "output_type": "display_data"
    },
    {
     "name": "stdout",
     "output_type": "stream",
     "text": [
      "35.15625\n"
     ]
    },
    {
     "data": {
      "image/jpeg": "[encoded data removed]",
      "image/png": "[encoded data removed]",
      "text/plain": [
       "<PIL.PngImagePlugin.PngImageFile image mode=RGB size=32x32>"
      ]
     },
     "metadata": {},
     "output_type": "display_data"
    },
    {
     "name": "stdout",
     "output_type": "stream",
     "text": [
      "4.151953124999986\n"
     ]
    },
    {
     "data": {
      "image/jpeg": "[encoded data removed]",
      "image/png": "[encoded data removed]",
      "text/plain": [
       "<PIL.PngImagePlugin.PngImageFile image mode=RGB size=32x32>"
      ]
     },
     "metadata": {},
     "output_type": "display_data"
    },
    {
     "name": "stdout",
     "output_type": "stream",
     "text": [
      "0.0\n"
     ]
    },
    {
     "data": {
      "image/jpeg": "[encoded data removed]",
      "image/png": "[encoded data removed]",
      "text/plain": [
       "<PIL.PngImagePlugin.PngImageFile image mode=RGB size=32x32>"
      ]
     },
     "metadata": {},
     "output_type": "display_data"
    },
    {
     "name": "stdout",
     "output_type": "stream",
     "text": [
      "27.03867187499996\n"
     ]
    },
    {
     "data": {
      "image/jpeg": "[encoded data removed]",
      "image/png": "[encoded data removed]",
      "text/plain": [
       "<PIL.PngImagePlugin.PngImageFile image mode=RGB size=32x32>"
      ]
     },
     "metadata": {},
     "output_type": "display_data"
    },
    {
     "name": "stdout",
     "output_type": "stream",
     "text": [
      "0.0\n"
     ]
    },
    {
     "data": {
      "image/jpeg": "[encoded data removed]",
      "image/png": "[encoded data removed]",
      "text/plain": [
       "<PIL.PngImagePlugin.PngImageFile image mode=RGB size=32x32>"
      ]
     },
     "metadata": {},
     "output_type": "display_data"
    },
    {
     "name": "stdout",
     "output_type": "stream",
     "text": [
      "175.78125\n",
      "CPU times: user 3.79 s, sys: 16.3 ms, total: 3.81 s\n",
      "Wall time: 3.79 s\n"
     ]
    }
   ],
   "source": [
    "%%time\n",
    "\n",
    "limiar = 10 #abaixo dessa diferença consideramos a mesma cor\n",
    "\n",
    "def iterador(img):\n",
    "    largura, altura = img.size\n",
    "    loaded_img = img.load()\n",
    "    mudancas = 0\n",
    "    for linha in range(1, altura-1):\n",
    "        for coluna in range(1, largura-1):\n",
    "            if (linha%2 == 0 and coluna%2 == 0) or (linha%2 == 1 and coluna%2 == 1):\n",
    "                for pixel in valores_vizinhos(loaded_img, coluna, linha):\n",
    "                    dE = obter_dE(loaded_img[linha, coluna], pixel)\n",
    "                    if dE > limiar:\n",
    "                        mudancas += round(dE, 2)\n",
    "    return mudancas*2/(largura*altura) #como estamos filtrando metade dos pixels, multiplicamos por 2\n",
    "\n",
    "display(img0a)\n",
    "print(iterador(img0a))\n",
    "display(img0b)\n",
    "print(iterador(img0b))\n",
    "display(img1)\n",
    "print(iterador(img1))\n",
    "display(img2)\n",
    "print(iterador(img2))\n",
    "display(img3)\n",
    "print(iterador(img3))\n",
    "display(img5)\n",
    "print(iterador(img5))\n",
    "display(img6)\n",
    "print(iterador(img6))\n",
    "display(img7)\n",
    "print(iterador(img7))"
   ]
  },
  {
   "cell_type": "markdown",
   "metadata": {},
   "source": [
    "#### Usando uma lib pronta"
   ]
  },
  {
   "cell_type": "code",
   "execution_count": 9,
   "metadata": {},
   "outputs": [
    {
     "data": {
      "image/jpeg": "[encoded data removed]",
      "image/png": "[encoded data removed]",
      "text/plain": [
       "<PIL.PngImagePlugin.PngImageFile image mode=RGB size=4x4>"
      ]
     },
     "metadata": {},
     "output_type": "display_data"
    },
    {
     "name": "stdout",
     "output_type": "stream",
     "text": [
      "100.0\n"
     ]
    },
    {
     "data": {
      "image/jpeg": "[encoded data removed]",
      "image/png": "[encoded data removed]",
      "text/plain": [
       "<PIL.PngImagePlugin.PngImageFile image mode=RGB size=4x4>"
      ]
     },
     "metadata": {},
     "output_type": "display_data"
    },
    {
     "name": "stdout",
     "output_type": "stream",
     "text": [
      "75.0\n"
     ]
    },
    {
     "data": {
      "image/jpeg": "[encoded data removed]",
      "image/png": "[encoded data removed]",
      "text/plain": [
       "<PIL.PngImagePlugin.PngImageFile image mode=RGB size=32x32>"
      ]
     },
     "metadata": {},
     "output_type": "display_data"
    },
    {
     "name": "stdout",
     "output_type": "stream",
     "text": [
      "35.15625\n"
     ]
    },
    {
     "data": {
      "image/jpeg": "[encoded data removed]",
      "image/png": "[encoded data removed]",
      "text/plain": [
       "<PIL.PngImagePlugin.PngImageFile image mode=RGB size=32x32>"
      ]
     },
     "metadata": {},
     "output_type": "display_data"
    },
    {
     "name": "stdout",
     "output_type": "stream",
     "text": [
      "4.151953124999986\n"
     ]
    },
    {
     "data": {
      "image/jpeg": "[encoded data removed]",
      "image/png": "[encoded data removed]",
      "text/plain": [
       "<PIL.PngImagePlugin.PngImageFile image mode=RGB size=32x32>"
      ]
     },
     "metadata": {},
     "output_type": "display_data"
    },
    {
     "name": "stdout",
     "output_type": "stream",
     "text": [
      "0.0\n"
     ]
    },
    {
     "data": {
      "image/jpeg": "[encoded data removed]",
      "image/png": "[encoded data removed]",
      "text/plain": [
       "<PIL.PngImagePlugin.PngImageFile image mode=RGB size=32x32>"
      ]
     },
     "metadata": {},
     "output_type": "display_data"
    },
    {
     "name": "stdout",
     "output_type": "stream",
     "text": [
      "21.280078125000035\n"
     ]
    },
    {
     "data": {
      "image/jpeg": "[encoded data removed]",
      "image/png": "[encoded data removed]",
      "text/plain": [
       "<PIL.PngImagePlugin.PngImageFile image mode=RGB size=32x32>"
      ]
     },
     "metadata": {},
     "output_type": "display_data"
    },
    {
     "name": "stdout",
     "output_type": "stream",
     "text": [
      "0.0\n"
     ]
    },
    {
     "data": {
      "image/jpeg": "[encoded data removed]",
      "image/png": "[encoded data removed]",
      "text/plain": [
       "<PIL.PngImagePlugin.PngImageFile image mode=RGB size=32x32>"
      ]
     },
     "metadata": {},
     "output_type": "display_data"
    },
    {
     "name": "stdout",
     "output_type": "stream",
     "text": [
      "175.78125\n",
      "CPU times: user 390 ms, sys: 1.99 ms, total: 392 ms\n",
      "Wall time: 395 ms\n"
     ]
    }
   ],
   "source": [
    "%%time\n",
    "\n",
    "from basic_colormath import get_delta_e\n",
    "\n",
    "limiar = 10 #abaixo dessa diferença consideramos a mesma cor\n",
    "\n",
    "def iterador(img):\n",
    "    largura, altura = img.size\n",
    "    loaded_img = img.load()\n",
    "    mudancas = 0\n",
    "    for linha in range(1, altura-1):\n",
    "        for coluna in range(1, largura-1):\n",
    "            if (linha%2 == 0 and coluna%2 == 0) or (linha%2 == 1 and coluna%2 == 1):\n",
    "                for pixel in valores_vizinhos(loaded_img, coluna, linha):\n",
    "                    dE = get_delta_e(loaded_img[linha, coluna], pixel)\n",
    "                    if dE > limiar:\n",
    "                        mudancas += round(dE, 2)\n",
    "    return mudancas*2/(largura*altura) #como estamos filtrando metade dos pixels, multiplicamos por 2\n",
    "\n",
    "display(img0a)\n",
    "print(iterador(img0a))\n",
    "display(img0b)\n",
    "print(iterador(img0b))\n",
    "display(img1)\n",
    "print(iterador(img1))\n",
    "display(img2)\n",
    "print(iterador(img2))\n",
    "display(img3)\n",
    "print(iterador(img3))\n",
    "display(img5)\n",
    "print(iterador(img5))\n",
    "display(img6)\n",
    "print(iterador(img6))\n",
    "display(img7)\n",
    "print(iterador(img7))\n",
    "\n"
   ]
  }
 ],
 "metadata": {
  "kernelspec": {
   "display_name": "Python 3 (ipykernel)",
   "language": "python",
   "name": "python3"
  },
  "language_info": {
   "codemirror_mode": {
    "name": "ipython",
    "version": 3
   },
   "file_extension": ".py",
   "mimetype": "text/x-python",
   "name": "python",
   "nbconvert_exporter": "python",
   "pygments_lexer": "ipython3",
   "version": "3.10.12"
  }
 },
 "nbformat": 4,
 "nbformat_minor": 4
}
